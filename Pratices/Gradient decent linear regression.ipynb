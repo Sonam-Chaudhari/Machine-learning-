{
 "cells": [
  {
   "cell_type": "markdown",
   "metadata": {},
   "source": [
    "# Linear Regression Stochastic Gradient Descent Assignment\n",
    "\n",
    "# Import Neccessary Libraries"
   ]
  },
  {
   "cell_type": "markdown",
   "metadata": {},
   "source": []
  },
  {
   "cell_type": "code",
   "execution_count": 2,
   "metadata": {},
   "outputs": [],
   "source": [
    "#importing necessary library\n",
    "\n",
    "import numpy as np\n",
    "import pandas as pd\n",
    "from sklearn.model_selection  import train_test_split\n",
    "from matplotlib.animation import FuncAnimation\n",
    "import  matplotlib.pyplot as plt\n",
    "import random\n",
    "from sklearn.preprocessing import StandardScaler"
   ]
  },
  {
   "cell_type": "code",
   "execution_count": 3,
   "metadata": {},
   "outputs": [
    {
     "data": {
      "text/html": [
       "<div>\n",
       "<style scoped>\n",
       "    .dataframe tbody tr th:only-of-type {\n",
       "        vertical-align: middle;\n",
       "    }\n",
       "\n",
       "    .dataframe tbody tr th {\n",
       "        vertical-align: top;\n",
       "    }\n",
       "\n",
       "    .dataframe thead th {\n",
       "        text-align: right;\n",
       "    }\n",
       "</style>\n",
       "<table border=\"1\" class=\"dataframe\">\n",
       "  <thead>\n",
       "    <tr style=\"text-align: right;\">\n",
       "      <th></th>\n",
       "      <th>YearsExperience</th>\n",
       "      <th>Salary</th>\n",
       "    </tr>\n",
       "  </thead>\n",
       "  <tbody>\n",
       "    <tr>\n",
       "      <th>0</th>\n",
       "      <td>1.1</td>\n",
       "      <td>39343.0</td>\n",
       "    </tr>\n",
       "    <tr>\n",
       "      <th>1</th>\n",
       "      <td>1.3</td>\n",
       "      <td>46205.0</td>\n",
       "    </tr>\n",
       "    <tr>\n",
       "      <th>2</th>\n",
       "      <td>1.5</td>\n",
       "      <td>37731.0</td>\n",
       "    </tr>\n",
       "    <tr>\n",
       "      <th>3</th>\n",
       "      <td>2.0</td>\n",
       "      <td>43525.0</td>\n",
       "    </tr>\n",
       "    <tr>\n",
       "      <th>4</th>\n",
       "      <td>2.2</td>\n",
       "      <td>39891.0</td>\n",
       "    </tr>\n",
       "  </tbody>\n",
       "</table>\n",
       "</div>"
      ],
      "text/plain": [
       "   YearsExperience   Salary\n",
       "0              1.1  39343.0\n",
       "1              1.3  46205.0\n",
       "2              1.5  37731.0\n",
       "3              2.0  43525.0\n",
       "4              2.2  39891.0"
      ]
     },
     "execution_count": 3,
     "metadata": {},
     "output_type": "execute_result"
    }
   ],
   "source": [
    "#loading data set \n",
    "np.random.seed(0)\n",
    "df = pd.read_csv(r\"C:\\Users\\sonam\\Downloads\\Salary.csv\")\n",
    "df.head()"
   ]
  },
  {
   "cell_type": "code",
   "execution_count": 4,
   "metadata": {},
   "outputs": [
    {
     "name": "stdout",
     "output_type": "stream",
     "text": [
      "<class 'pandas.core.frame.DataFrame'>\n",
      "RangeIndex: 30 entries, 0 to 29\n",
      "Data columns (total 2 columns):\n",
      " #   Column           Non-Null Count  Dtype  \n",
      "---  ------           --------------  -----  \n",
      " 0   YearsExperience  30 non-null     float64\n",
      " 1   Salary           30 non-null     float64\n",
      "dtypes: float64(2)\n",
      "memory usage: 612.0 bytes\n"
     ]
    }
   ],
   "source": [
    "df.info()"
   ]
  },
  {
   "cell_type": "code",
   "execution_count": 5,
   "metadata": {},
   "outputs": [
    {
     "data": {
      "text/plain": [
       "YearsExperience    0\n",
       "Salary             0\n",
       "dtype: int64"
      ]
     },
     "execution_count": 5,
     "metadata": {},
     "output_type": "execute_result"
    }
   ],
   "source": [
    "df.isnull().sum()"
   ]
  },
  {
   "cell_type": "code",
   "execution_count": null,
   "metadata": {},
   "outputs": [],
   "source": [
    "#splitting the data  into x and y\n",
    "X = df['YearsExperience']\n",
    "y = df['Salary']\n",
    "scaler_x = StandardScaler()\n",
    "scaler_y = StandardScaler()\n",
    "X = scaler_x.fit_transform(X.values.reshape(-1,1)).flatten()\n",
    "y = scaler_y.fit_transform(y.values.reshape(-1,1)).flatten()"
   ]
  },
  {
   "cell_type": "code",
   "execution_count": 8,
   "metadata": {},
   "outputs": [],
   "source": [
    "#splitting the data into test data and train data \n",
    "x_train, x_test, y_train, y_test = train_test_split(X, y, test_size=0.2, random_state=42)"
   ]
  },
  {
   "cell_type": "code",
   "execution_count": 9,
   "metadata": {},
   "outputs": [
    {
     "data": {
      "text/plain": [
       "Text(0.5, 1.0, 'Salary Data For Linear Regression')"
      ]
     },
     "execution_count": 9,
     "metadata": {},
     "output_type": "execute_result"
    },
    {
     "data": {
      "image/png": "[encoded data removed]",
      "text/plain": [
       "<Figure size 640x480 with 1 Axes>"
      ]
     },
     "metadata": {},
     "output_type": "display_data"
    }
   ],
   "source": [
    "#plotting the data \n",
    "plt.scatter(x_train, y_train)\n",
    "plt.xlabel('X')\n",
    "plt.xlabel('y')\n",
    "plt.title('Salary Data For Linear Regression')"
   ]
  },
  {
   "cell_type": "code",
   "execution_count": 10,
   "metadata": {},
   "outputs": [],
   "source": [
    "#Define the loss function\n",
    "def error_function(y_true,  y_pred):\n",
    "    #Calculating the loss or cost for MSE\n",
    "    cost = np.sum((y_true - y_pred)**2) / len(y_true)\n",
    "    # cost = np.mean((y_true - y_pred) ** 2)\n",
    "    return cost"
   ]
  },
  {
   "cell_type": "code",
   "execution_count": 11,
   "metadata": {},
   "outputs": [],
   "source": [
    "#impliminting gradient decent \n",
    "def batch_gradient_descent(x, y, batch_size, iterations, learning_rate, stopping_threshold=1e-6):\n",
    "    current_weight = random.uniform(1, 7)\n",
    "    current_bias = random.uniform(-2, 4)\n",
    "    n = len(x)\n",
    "    \n",
    "    costs = []\n",
    "    weights = []\n",
    "    biases = []\n",
    "    previous_cost = None\n",
    "    \n",
    "    for iteration in range(iterations):\n",
    "        \n",
    "        #Shuffle Data For Each Iteration\n",
    "        indices = np.arange(n)\n",
    "        np.random.shuffle(indices)\n",
    "        \n",
    "        x_shuffled = x[indices]\n",
    "        y_shuffled = y[indices]\n",
    "        \n",
    "        for i in range(0, batch_size):\n",
    "            x_batch = x_shuffled[i:i+batch_size]\n",
    "            y_batch = y_shuffled[i:i+batch_size]\n",
    "            \n",
    "            #Making Predictions\n",
    "            y_predicted = (current_weight * x_batch) + current_bias\n",
    "            current_cost = error_function(y_batch, y_predicted)\n",
    "            \n",
    "            if previous_cost and abs(previous_cost - current_cost) <= stopping_threshold:\n",
    "                return weights, biases, costs\n",
    "            previous_cost = current_cost\n",
    "            costs.append(current_cost)\n",
    "            weights.append(current_weight)\n",
    "            biases.append(current_bias)\n",
    "            \n",
    "            #MSE\n",
    "            weight_derivate = -(2/len(x_batch)) * np.sum(x_batch * (y_batch - y_predicted))\n",
    "            bias_derivate = -(2/len(x_batch)) * np.sum(y_batch - y_predicted)\n",
    "            \n",
    "            #Updating weights and bias\n",
    "            current_weight = current_weight - (learning_rate * weight_derivate)\n",
    "            current_bias = current_bias - (learning_rate * bias_derivate)\n",
    "    return weights, biases, costs"
   ]
  },
  {
   "cell_type": "markdown",
   "metadata": {},
   "source": [
    "# plotting the cost function \n"
   ]
  },
  {
   "cell_type": "code",
   "execution_count": 12,
   "metadata": {},
   "outputs": [],
   "source": [
    "iterations = 250\n",
    "learning_rate = 0.05\n",
    "batch_size = 16"
   ]
  },
  {
   "cell_type": "code",
   "execution_count": 13,
   "metadata": {},
   "outputs": [],
   "source": [
    "%matplotlib tk"
   ]
  },
  {
   "cell_type": "code",
   "execution_count": 14,
   "metadata": {},
   "outputs": [],
   "source": [
    "weights, biases, costs = batch_gradient_descent(x_train, y_train, batch_size, iterations, learning_rate)\n",
    "\n",
    "fig, (ax1, ax2, ax3, ax4) = plt.subplots(4, 1, figsize=(12, 18))\n",
    "\n",
    "#Plotting the data points and fit line\n",
    "\n",
    "scatter = ax1.scatter(x_train, y_train, marker='o', color='red')\n",
    "line, = ax1.plot(x_train, x_train * weights[0] + biases[0], color='blue', linestyle='dashed')\n",
    "ax1.set_xlabel(\"X\")\n",
    "ax1.set_ylabel(\"Y\")\n",
    "ax1.set_title(\"Data points and Fit Line\")\n",
    "\n",
    "\n",
    "#Plotting the cost curve\n",
    "cost_line, = ax2.plot([], [], color='green')\n",
    "ax2.set_xlim(0, len(costs))\n",
    "ax2.set_ylim(0, max(costs))\n",
    "ax2.set_xlabel(\"Iteration\")\n",
    "ax2.set_ylabel(\"Cost\")\n",
    "ax2.set_title(\"Cost Curve\")\n",
    "\n",
    "#Plotting Costs vs. Weights\n",
    "weight_cost_line, = ax3.plot([], [], color='purple', linestyle='-')\n",
    "ax3.set_xlim(min(weights), max(weights))\n",
    "ax3.set_ylim(0, max(costs))\n",
    "ax3.set_xlabel(\"Weights\")\n",
    "ax3.set_ylabel(\"Cost\")\n",
    "ax3.set_title(\"Costs vs. Weights\")\n",
    "\n",
    "#Plotting Costs vs. Biases\n",
    "bias_cost_line, = ax4.plot([], [], color='orange', linestyle='-')\n",
    "ax4.set_xlim(min(biases), max(biases))\n",
    "ax4.set_ylim(0, max(costs))\n",
    "ax4.set_xlabel(\"Biases\")\n",
    "ax4.set_ylabel(\"Cost\")\n",
    "ax4.set_title(\"Costs vs. Biases\")\n",
    "\n",
    "def update(frame):\n",
    "    #Update line fitting\n",
    "    current_weight = weights[frame]\n",
    "    current_bias = biases[frame]\n",
    "    y_pred = current_weight * x_train + current_bias\n",
    "    line.set_ydata(y_pred)\n",
    "    # ax1.set_ylim(min(y_pred) - 5, max(y_pred) + 5)\n",
    "    \n",
    "    #Update cost curve\n",
    "    cost_line.set_data(range(frame + 1), costs[:frame + 1])\n",
    "    \n",
    "    #Update Costs vs. Weights\n",
    "    weight_cost_line.set_data(weights[:frame + 1], costs[:frame + 1])\n",
    "    \n",
    "    #Update Costs vs. Biases\n",
    "    bias_cost_line.set_data(biases[:frame + 1], costs[:frame + 1])\n",
    "    return line, cost_line, weight_cost_line, bias_cost_line\n",
    "\n",
    "#Create animation\n",
    "ani = FuncAnimation(fig, update, frames=len(weights), blit=False, interval=200)\n",
    "\n",
    "plt.tight_layout()\n",
    "plt.show()"
   ]
  },
  {
   "cell_type": "code",
   "execution_count": 15,
   "metadata": {},
   "outputs": [],
   "source": [
    "%matplotlib inline"
   ]
  },
  {
   "cell_type": "markdown",
   "metadata": {},
   "source": [
    "# Get Best Weight And Bias"
   ]
  },
  {
   "cell_type": "code",
   "execution_count": 16,
   "metadata": {},
   "outputs": [
    {
     "name": "stdout",
     "output_type": "stream",
     "text": [
      "The best weight Steps 543\n",
      "{'coef_': 0.9769848631053807, 'intercept_': -0.04189386367585375}\n",
      "Best Weight: 0.9769848631053807 Best Bias: -0.04189386367585375\n"
     ]
    }
   ],
   "source": [
    "best_index = np.argmin(costs)\n",
    "print(\"The best weight Steps\", best_index)\n",
    "\n",
    "best_model = {}\n",
    "best_model['coef_'] = weights[best_index]\n",
    "best_model['intercept_'] = biases[best_index]\n",
    "\n",
    "print(best_model)\n",
    "\n",
    "print(f\"Best Weight: {best_model['coef_']} Best Bias: {best_model['intercept_']}\")"
   ]
  },
  {
   "cell_type": "code",
   "execution_count": 17,
   "metadata": {},
   "outputs": [
    {
     "name": "stdout",
     "output_type": "stream",
     "text": [
      "Latest Index 598\n",
      "{'coef_': 0.9505728627443977, 'intercept_': -0.03505164328520861}\n",
      "Latest Weight: 0.9505728627443977 Latest Bias -0.03505164328520861\n"
     ]
    }
   ],
   "source": [
    "#Get Latest Weight And Bias\n",
    "print(\"Latest Index\", len(costs) - 1)\n",
    "\n",
    "latest_model = {}\n",
    "\n",
    "latest_model['coef_'] = weights[-1]\n",
    "latest_model['intercept_'] = biases[-1]\n",
    "\n",
    "print(latest_model)\n",
    "\n",
    "print(f'Latest Weight: {latest_model[\"coef_\"]} Latest Bias {latest_model[\"intercept_\"]}')"
   ]
  },
  {
   "cell_type": "code",
   "execution_count": 18,
   "metadata": {},
   "outputs": [],
   "source": [
    "#Create Y Prediction Model\n",
    "def LinearRegressionPredict(x_true):\n",
    "    y_prediction = []\n",
    "    for x_item in x_true:\n",
    "        y = biases[best_index] + weights[best_index] * x_item\n",
    "        y_prediction.append(y)\n",
    "    return y_prediction"
   ]
  },
  {
   "cell_type": "code",
   "execution_count": 19,
   "metadata": {},
   "outputs": [
    {
     "name": "stdout",
     "output_type": "stream",
     "text": [
      "[1.4590826667597723, -0.1866225493477181, 0.9688726023873281, -0.04656253095559142, -0.7818776275142573, -0.6068026045240987]\n"
     ]
    }
   ],
   "source": [
    "y_pred = LinearRegressionPredict(x_test)\n",
    "print(y_pred)"
   ]
  },
  {
   "cell_type": "code",
   "execution_count": 20,
   "metadata": {},
   "outputs": [
    {
     "name": "stdout",
     "output_type": "stream",
     "text": [
      "R2 Score : 0.8957844351670332\n"
     ]
    }
   ],
   "source": [
    "#Check Accuracy\n",
    "from sklearn.metrics import r2_score\n",
    "\n",
    "r2 = r2_score(y_test, y_pred)\n",
    "\n",
    "print(f\"R2 Score : {r2}\")"
   ]
  },
  {
   "cell_type": "code",
   "execution_count": 23,
   "metadata": {},
   "outputs": [
    {
     "data": {
      "text/plain": [
       "[<matplotlib.lines.Line2D at 0x184f3c86d80>]"
      ]
     },
     "execution_count": 23,
     "metadata": {},
     "output_type": "execute_result"
    }
   ],
   "source": [
    "#plot the data \n",
    "\n",
    "plt.title(\"Actual VS Predicted\")\n",
    "plt.xlabel(\"YearsExperience\")\n",
    "plt.ylabel(\"Salary\")\n",
    "plt.scatter(x_test, y_test, c='b')\n",
    "plt.scatter(x_test, y_pred, c='r')\n",
    "plt.plot(x_train, weights[best_index] * x_train + biases[best_index], c='g')\n"
   ]
  }
 ],
 "metadata": {
  "kernelspec": {
   "display_name": "venv",
   "language": "python",
   "name": "python3"
  },
  "language_info": {
   "codemirror_mode": {
    "name": "ipython",
    "version": 3
   },
   "file_extension": ".py",
   "mimetype": "text/x-python",
   "name": "python",
   "nbconvert_exporter": "python",
   "pygments_lexer": "ipython3",
   "version": "3.12.7"
  }
 },
 "nbformat": 4,
 "nbformat_minor": 2
}
